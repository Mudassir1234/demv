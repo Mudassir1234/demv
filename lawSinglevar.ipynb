{
 "cells": [
  {
   "cell_type": "markdown",
   "metadata": {},
   "source": [
    "# Testing DEMV on _Law School Admissions_ (LAW) dataset"
   ]
  },
  {
   "cell_type": "markdown",
   "metadata": {},
   "source": [
    "- Unprivileged group: `gender=1`\n",
    "- sex: 1 female, 0 male"
   ]
  },
  {
   "cell_type": "code",
   "execution_count": 30,
   "metadata": {},
   "outputs": [],
   "source": [
    "import pandas as pd\n",
    "\n",
    "from sklearn.linear_model import LogisticRegression\n",
    "from sklearn.preprocessing import StandardScaler, LabelEncoder\n",
    "from sklearn.pipeline import Pipeline\n",
    "#from sklearnex import patch_sklearn\n",
    "#patch_sklearn()\n",
    "\n",
    "from fairlearn.reductions import ExponentiatedGradient, BoundedGroupLoss, ZeroOneLoss\n",
    "\n",
    "import matplotlib.pyplot as plt\n",
    "import seaborn as sns\n",
    "\n",
    "from utils import *\n",
    "from demv import DEMV\n",
    "\n",
    "import warnings\n",
    "warnings.filterwarnings('ignore')\n",
    "sns.set_style('whitegrid')\n"
   ]
  },
  {
   "cell_type": "code",
   "execution_count": 31,
   "metadata": {},
   "outputs": [
    {
     "data": {
      "text/html": [
       "<div>\n",
       "<style scoped>\n",
       "    .dataframe tbody tr th:only-of-type {\n",
       "        vertical-align: middle;\n",
       "    }\n",
       "\n",
       "    .dataframe tbody tr th {\n",
       "        vertical-align: top;\n",
       "    }\n",
       "\n",
       "    .dataframe thead th {\n",
       "        text-align: right;\n",
       "    }\n",
       "</style>\n",
       "<table border=\"1\" class=\"dataframe\">\n",
       "  <thead>\n",
       "    <tr style=\"text-align: right;\">\n",
       "      <th></th>\n",
       "      <th>race</th>\n",
       "      <th>lsat</th>\n",
       "      <th>zfygpa</th>\n",
       "      <th>DOB_yr</th>\n",
       "      <th>zgpa</th>\n",
       "      <th>fulltime</th>\n",
       "      <th>fam_inc</th>\n",
       "      <th>age</th>\n",
       "      <th>gender</th>\n",
       "      <th>parttime</th>\n",
       "      <th>Dropout</th>\n",
       "      <th>pass_bar</th>\n",
       "      <th>tier</th>\n",
       "      <th>gpa</th>\n",
       "    </tr>\n",
       "  </thead>\n",
       "  <tbody>\n",
       "    <tr>\n",
       "      <th>0</th>\n",
       "      <td>0.0</td>\n",
       "      <td>44.0</td>\n",
       "      <td>1.33</td>\n",
       "      <td>69.0</td>\n",
       "      <td>1.88</td>\n",
       "      <td>1.0</td>\n",
       "      <td>5.0</td>\n",
       "      <td>-62.0</td>\n",
       "      <td>1</td>\n",
       "      <td>0.0</td>\n",
       "      <td>0</td>\n",
       "      <td>1.0</td>\n",
       "      <td>4.0</td>\n",
       "      <td>2</td>\n",
       "    </tr>\n",
       "    <tr>\n",
       "      <th>1</th>\n",
       "      <td>0.0</td>\n",
       "      <td>29.0</td>\n",
       "      <td>-0.11</td>\n",
       "      <td>69.0</td>\n",
       "      <td>-0.57</td>\n",
       "      <td>1.0</td>\n",
       "      <td>4.0</td>\n",
       "      <td>-62.0</td>\n",
       "      <td>1</td>\n",
       "      <td>0.0</td>\n",
       "      <td>0</td>\n",
       "      <td>1.0</td>\n",
       "      <td>2.0</td>\n",
       "      <td>2</td>\n",
       "    </tr>\n",
       "    <tr>\n",
       "      <th>2</th>\n",
       "      <td>0.0</td>\n",
       "      <td>36.0</td>\n",
       "      <td>-0.64</td>\n",
       "      <td>65.0</td>\n",
       "      <td>-1.12</td>\n",
       "      <td>1.0</td>\n",
       "      <td>1.0</td>\n",
       "      <td>-58.0</td>\n",
       "      <td>0</td>\n",
       "      <td>0.0</td>\n",
       "      <td>0</td>\n",
       "      <td>1.0</td>\n",
       "      <td>3.0</td>\n",
       "      <td>2</td>\n",
       "    </tr>\n",
       "    <tr>\n",
       "      <th>3</th>\n",
       "      <td>0.0</td>\n",
       "      <td>39.0</td>\n",
       "      <td>0.34</td>\n",
       "      <td>58.0</td>\n",
       "      <td>-0.49</td>\n",
       "      <td>1.0</td>\n",
       "      <td>4.0</td>\n",
       "      <td>-51.0</td>\n",
       "      <td>0</td>\n",
       "      <td>0.0</td>\n",
       "      <td>0</td>\n",
       "      <td>1.0</td>\n",
       "      <td>3.0</td>\n",
       "      <td>2</td>\n",
       "    </tr>\n",
       "    <tr>\n",
       "      <th>4</th>\n",
       "      <td>0.0</td>\n",
       "      <td>48.0</td>\n",
       "      <td>1.02</td>\n",
       "      <td>68.0</td>\n",
       "      <td>0.76</td>\n",
       "      <td>1.0</td>\n",
       "      <td>4.0</td>\n",
       "      <td>-61.0</td>\n",
       "      <td>0</td>\n",
       "      <td>0.0</td>\n",
       "      <td>0</td>\n",
       "      <td>1.0</td>\n",
       "      <td>5.0</td>\n",
       "      <td>2</td>\n",
       "    </tr>\n",
       "    <tr>\n",
       "      <th>...</th>\n",
       "      <td>...</td>\n",
       "      <td>...</td>\n",
       "      <td>...</td>\n",
       "      <td>...</td>\n",
       "      <td>...</td>\n",
       "      <td>...</td>\n",
       "      <td>...</td>\n",
       "      <td>...</td>\n",
       "      <td>...</td>\n",
       "      <td>...</td>\n",
       "      <td>...</td>\n",
       "      <td>...</td>\n",
       "      <td>...</td>\n",
       "      <td>...</td>\n",
       "    </tr>\n",
       "    <tr>\n",
       "      <th>22402</th>\n",
       "      <td>1.0</td>\n",
       "      <td>26.5</td>\n",
       "      <td>-0.58</td>\n",
       "      <td>64.0</td>\n",
       "      <td>-1.49</td>\n",
       "      <td>1.0</td>\n",
       "      <td>2.0</td>\n",
       "      <td>-62.0</td>\n",
       "      <td>0</td>\n",
       "      <td>0.0</td>\n",
       "      <td>0</td>\n",
       "      <td>0.0</td>\n",
       "      <td>1.0</td>\n",
       "      <td>0</td>\n",
       "    </tr>\n",
       "    <tr>\n",
       "      <th>22403</th>\n",
       "      <td>1.0</td>\n",
       "      <td>19.7</td>\n",
       "      <td>-0.64</td>\n",
       "      <td>64.0</td>\n",
       "      <td>-1.36</td>\n",
       "      <td>1.0</td>\n",
       "      <td>3.0</td>\n",
       "      <td>-57.0</td>\n",
       "      <td>0</td>\n",
       "      <td>0.0</td>\n",
       "      <td>0</td>\n",
       "      <td>0.0</td>\n",
       "      <td>1.0</td>\n",
       "      <td>0</td>\n",
       "    </tr>\n",
       "    <tr>\n",
       "      <th>22404</th>\n",
       "      <td>1.0</td>\n",
       "      <td>36.0</td>\n",
       "      <td>0.41</td>\n",
       "      <td>66.0</td>\n",
       "      <td>0.80</td>\n",
       "      <td>2.0</td>\n",
       "      <td>3.0</td>\n",
       "      <td>-59.0</td>\n",
       "      <td>0</td>\n",
       "      <td>1.0</td>\n",
       "      <td>0</td>\n",
       "      <td>1.0</td>\n",
       "      <td>3.0</td>\n",
       "      <td>0</td>\n",
       "    </tr>\n",
       "    <tr>\n",
       "      <th>22405</th>\n",
       "      <td>0.0</td>\n",
       "      <td>44.0</td>\n",
       "      <td>1.88</td>\n",
       "      <td>58.0</td>\n",
       "      <td>1.42</td>\n",
       "      <td>2.0</td>\n",
       "      <td>3.0</td>\n",
       "      <td>-51.0</td>\n",
       "      <td>0</td>\n",
       "      <td>1.0</td>\n",
       "      <td>0</td>\n",
       "      <td>1.0</td>\n",
       "      <td>3.0</td>\n",
       "      <td>0</td>\n",
       "    </tr>\n",
       "    <tr>\n",
       "      <th>22406</th>\n",
       "      <td>0.0</td>\n",
       "      <td>29.5</td>\n",
       "      <td>1.10</td>\n",
       "      <td>59.0</td>\n",
       "      <td>0.81</td>\n",
       "      <td>1.0</td>\n",
       "      <td>3.0</td>\n",
       "      <td>-57.0</td>\n",
       "      <td>0</td>\n",
       "      <td>0.0</td>\n",
       "      <td>0</td>\n",
       "      <td>1.0</td>\n",
       "      <td>1.0</td>\n",
       "      <td>0</td>\n",
       "    </tr>\n",
       "  </tbody>\n",
       "</table>\n",
       "<p>20427 rows × 14 columns</p>\n",
       "</div>"
      ],
      "text/plain": [
       "       race  lsat  zfygpa  DOB_yr  zgpa  fulltime  fam_inc   age gender  \\\n",
       "0       0.0  44.0    1.33    69.0  1.88       1.0      5.0 -62.0      1   \n",
       "1       0.0  29.0   -0.11    69.0 -0.57       1.0      4.0 -62.0      1   \n",
       "2       0.0  36.0   -0.64    65.0 -1.12       1.0      1.0 -58.0      0   \n",
       "3       0.0  39.0    0.34    58.0 -0.49       1.0      4.0 -51.0      0   \n",
       "4       0.0  48.0    1.02    68.0  0.76       1.0      4.0 -61.0      0   \n",
       "...     ...   ...     ...     ...   ...       ...      ...   ...    ...   \n",
       "22402   1.0  26.5   -0.58    64.0 -1.49       1.0      2.0 -62.0      0   \n",
       "22403   1.0  19.7   -0.64    64.0 -1.36       1.0      3.0 -57.0      0   \n",
       "22404   1.0  36.0    0.41    66.0  0.80       2.0      3.0 -59.0      0   \n",
       "22405   0.0  44.0    1.88    58.0  1.42       2.0      3.0 -51.0      0   \n",
       "22406   0.0  29.5    1.10    59.0  0.81       1.0      3.0 -57.0      0   \n",
       "\n",
       "       parttime Dropout  pass_bar  tier  gpa  \n",
       "0           0.0       0       1.0   4.0    2  \n",
       "1           0.0       0       1.0   2.0    2  \n",
       "2           0.0       0       1.0   3.0    2  \n",
       "3           0.0       0       1.0   3.0    2  \n",
       "4           0.0       0       1.0   5.0    2  \n",
       "...         ...     ...       ...   ...  ...  \n",
       "22402       0.0       0       0.0   1.0    0  \n",
       "22403       0.0       0       0.0   1.0    0  \n",
       "22404       1.0       0       1.0   3.0    0  \n",
       "22405       1.0       0       1.0   3.0    0  \n",
       "22406       0.0       0       1.0   1.0    0  \n",
       "\n",
       "[20427 rows x 14 columns]"
      ]
     },
     "execution_count": 31,
     "metadata": {},
     "output_type": "execute_result"
    }
   ],
   "source": [
    "data = pd.read_csv('data/bar_pass_prediction.csv', index_col='Unnamed: 0')\n",
    "col_to_drop = ['ID', 'decile1b', 'decile3', 'decile1', 'cluster', 'bar1', 'bar2',\n",
    "               'sex', 'male', 'race1', 'race2', 'other', 'asian', 'black', 'hisp', 'bar', 'index6040', 'indxgrp', 'indxgrp2', 'dnn_bar_pass_prediction', 'grad', 'bar1_yr', 'bar2_yr', 'ugpa']\n",
    "data.drop(col_to_drop, axis=1, inplace=True)\n",
    "data.loc[data['Dropout'] == 'NO', 'Dropout'] = 0\n",
    "data.loc[data['Dropout'] == 'YES', 'Dropout'] = 1\n",
    "data.dropna(inplace=True)\n",
    "data.loc[data['gender']=='female', 'gender'] = 1\n",
    "data.loc[data['gender'] == 'male', 'gender'] = 0\n",
    "data.loc[data['race']==7.0, 'race'] = 0\n",
    "data.loc[data['race'] != 0, 'race'] = 1\n",
    "data['gpa'] = pd.qcut(data['gpa'], 3, labels=['a','b','c'])\n",
    "enc = LabelEncoder()\n",
    "data['gpa'] = enc.fit_transform(data['gpa'].values)\n",
    "data\n"
   ]
  },
  {
   "cell_type": "code",
   "execution_count": 32,
   "metadata": {},
   "outputs": [],
   "source": [
    "protected_group = {'gender': 1}\n",
    "label = 'gpa'\n",
    "sensitive_features=['gender']\n",
    "positive_label = 2"
   ]
  },
  {
   "cell_type": "code",
   "execution_count": 33,
   "metadata": {},
   "outputs": [
    {
     "data": {
      "image/png": "[encoded data removed]",
      "text/plain": [
       "<Figure size 360x360 with 1 Axes>"
      ]
     },
     "metadata": {},
     "output_type": "display_data"
    }
   ],
   "source": [
    "sns.catplot(data=data, x='gender', kind='count')\n",
    "plt.show()"
   ]
  },
  {
   "cell_type": "markdown",
   "metadata": {},
   "source": [
    "## Bias Metrics"
   ]
  },
  {
   "cell_type": "markdown",
   "metadata": {},
   "source": [
    "### Logistic regression"
   ]
  },
  {
   "cell_type": "code",
   "execution_count": 34,
   "metadata": {},
   "outputs": [],
   "source": [
    "pipeline = Pipeline(\n",
    "    steps=[\n",
    "        (\"scaler\", StandardScaler()),\n",
    "        (\n",
    "            \"classifier\",\n",
    "            LogisticRegression(),\n",
    "        ),\n",
    "    ]\n",
    ")"
   ]
  },
  {
   "cell_type": "code",
   "execution_count": 35,
   "metadata": {},
   "outputs": [
    {
     "name": "stdout",
     "output_type": "stream",
     "text": [
      "Statistical parity:  0.226  +-  0.02\n",
      "Disparate impact:  0.56  +-  0.033\n",
      "Zero one loss:  0.036  +-  0.016\n",
      "F1 score:  0.449  +-  0.011\n",
      "Accuracy score:  0.521  +-  0.01\n"
     ]
    }
   ],
   "source": [
    "model, lr_metrics = cross_val(pipeline, data, label, protected_group, sensitive_features=sensitive_features, positive_label=positive_label)\n",
    "print_metrics(lr_metrics)"
   ]
  },
  {
   "cell_type": "markdown",
   "metadata": {},
   "source": [
    "## DEMV Metrics"
   ]
  },
  {
   "cell_type": "code",
   "execution_count": 36,
   "metadata": {},
   "outputs": [],
   "source": [
    "demv = DEMV(round_level=1)\n",
    "demv_data = data.copy()"
   ]
  },
  {
   "cell_type": "markdown",
   "metadata": {},
   "source": [
    "### Logistic regression"
   ]
  },
  {
   "cell_type": "code",
   "execution_count": 37,
   "metadata": {},
   "outputs": [
    {
     "name": "stdout",
     "output_type": "stream",
     "text": [
      "Statistical parity:  0.099  +-  0.021\n",
      "Disparate impact:  0.773  +-  0.044\n",
      "Zero one loss:  0.037  +-  0.021\n",
      "F1 score:  0.445  +-  0.012\n",
      "Accuracy score:  0.521  +-  0.012\n"
     ]
    }
   ],
   "source": [
    "model, lr_demv = cross_val(deepcopy(pipeline), demv_data, label, protected_group, sensitive_features=sensitive_features, debiaser=demv, positive_label=2)\n",
    "print_metrics(lr_demv)"
   ]
  },
  {
   "cell_type": "markdown",
   "metadata": {},
   "source": [
    "## Fairlearn Exponentiated Gradient"
   ]
  },
  {
   "cell_type": "code",
   "execution_count": 38,
   "metadata": {},
   "outputs": [],
   "source": [
    "fl_data = data.copy()\n",
    "const = BoundedGroupLoss(ZeroOneLoss(), upper_bound=0.1)"
   ]
  },
  {
   "cell_type": "code",
   "execution_count": 39,
   "metadata": {
    "collapsed": true,
    "jupyter": {
     "outputs_hidden": true
    },
    "tags": []
   },
   "outputs": [],
   "source": [
    "lr_model = ExponentiatedGradient(\n",
    "    pipeline, const, sample_weight_name=\"classifier__sample_weight\")\n",
    "lr_model, lr_metrics = cross_val(lr_model, fl_data, label, protected_group, sensitive_features=sensitive_features, exp=True, positive_label=2)\n"
   ]
  },
  {
   "cell_type": "code",
   "execution_count": 40,
   "metadata": {},
   "outputs": [
    {
     "name": "stdout",
     "output_type": "stream",
     "text": [
      "Statistical parity:  0.188  +-  0.022\n",
      "Disparate impact:  0.61  +-  0.035\n",
      "Zero one loss:  0.042  +-  0.022\n",
      "F1 score:  0.457  +-  0.009\n",
      "Accuracy score:  0.522  +-  0.009\n"
     ]
    }
   ],
   "source": [
    "print_metrics(lr_metrics)"
   ]
  },
  {
   "cell_type": "markdown",
   "metadata": {},
   "source": [
    "## DEMV Evaluation"
   ]
  },
  {
   "cell_type": "code",
   "execution_count": 41,
   "metadata": {},
   "outputs": [
    {
     "data": {
      "text/plain": [
       "355"
      ]
     },
     "execution_count": 41,
     "metadata": {},
     "output_type": "execute_result"
    }
   ],
   "source": [
    "demv.get_iters()"
   ]
  },
  {
   "cell_type": "code",
   "execution_count": 42,
   "metadata": {},
   "outputs": [],
   "source": [
    "metrics = eval_demv(200, demv.get_iters(), data.copy(), pipeline, label, protected_group, sensitive_features, positive_label=2)"
   ]
  },
  {
   "cell_type": "code",
   "execution_count": 43,
   "metadata": {},
   "outputs": [],
   "source": [
    "df = prepareplots(metrics,'lawSinglevar')\n",
    "iters = df['stop'].iloc[-1]"
   ]
  },
  {
   "cell_type": "code",
   "execution_count": 44,
   "metadata": {},
   "outputs": [
    {
     "data": {
      "image/png": "[encoded data removed]",
      "text/plain": [
       "<Figure size 720x576 with 1 Axes>"
      ]
     },
     "metadata": {},
     "output_type": "display_data"
    }
   ],
   "source": [
    "points = preparepoints(lr_metrics, iters)\n",
    "\n",
    "plot_metrics_curves(df, points, 'Law Multiclass Dataset')\n"
   ]
  },
  {
   "cell_type": "code",
   "execution_count": 45,
   "metadata": {},
   "outputs": [
    {
     "name": "stdout",
     "output_type": "stream",
     "text": [
      "Dataset size: 20427\n",
      "Unprivileged group size: 8926\n",
      "Percentage of unprivileged group: 43.69706760659911\n",
      "Number of iterations: 355\n"
     ]
    }
   ],
   "source": [
    "unprivpergentage(data,protected_group, demv.get_iters())"
   ]
  }
 ],
 "metadata": {
  "interpreter": {
   "hash": "6a7a870b3111e0122f7f892e19f4e5976fc63350699b82f8b42e0c462fa7f0d1"
  },
  "kernelspec": {
   "display_name": "Python 3 (ipykernel)",
   "language": "python",
   "name": "python3"
  },
  "language_info": {
   "codemirror_mode": {
    "name": "ipython",
    "version": 3
   },
   "file_extension": ".py",
   "mimetype": "text/x-python",
   "name": "python",
   "nbconvert_exporter": "python",
   "pygments_lexer": "ipython3",
   "version": "3.8.8"
  }
 },
 "nbformat": 4,
 "nbformat_minor": 4
}
