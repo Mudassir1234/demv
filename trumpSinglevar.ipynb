{
 "cells": [
  {
   "cell_type": "markdown",
   "id": "f7aa95c8-06af-4ff4-9f34-56b69b4b82d1",
   "metadata": {},
   "source": [
    "# Testing DEMV on _The Trump Effect_ dataset"
   ]
  },
  {
   "cell_type": "markdown",
   "id": "92f4a035-6672-47e9-a326-b62c5ac9a9b8",
   "metadata": {},
   "source": [
    "**Protected group:** `GENDER=0`"
   ]
  },
  {
   "cell_type": "code",
   "execution_count": 23,
   "id": "ad1352b9-5aa4-4b3b-856f-374f9f26e03f",
   "metadata": {},
   "outputs": [],
   "source": [
    "import pandas as pd\n",
    "\n",
    "from sklearn.linear_model import LogisticRegression\n",
    "from sklearn.preprocessing import StandardScaler, LabelEncoder\n",
    "from sklearn.pipeline import Pipeline\n",
    "\n",
    "import seaborn as sns\n",
    "\n",
    "from fairlearn.reductions import ZeroOneLoss, ExponentiatedGradient, BoundedGroupLoss\n",
    "\n",
    "from utils import *\n",
    "from demv import DEMV\n",
    "\n",
    "import warnings\n",
    "warnings.filterwarnings('ignore')\n",
    "\n",
    "sns.set_style('whitegrid')"
   ]
  },
  {
   "cell_type": "code",
   "execution_count": 24,
   "id": "e0297bd9-3f95-4de0-b958-6f54f8d7f546",
   "metadata": {
    "tags": []
   },
   "outputs": [],
   "source": [
    "def make_data():\n",
    "    data = pd.read_csv('data/data_e28.csv - data_e28.csv.csv', index_col='[meta] uuid')\n",
    "    data.rename(columns = lambda c: c[c.find(\"]\")+1:].replace(\"_\", \" \").upper().strip(), inplace=True)\n",
    "    \n",
    "    voted = data['VOTED PARTY LAST ELECTION DE'][data['COUNTRY CODE'] == 'DE']\\\n",
    "    .append(data['VOTED PARTY LAST ELECTION IT'][data['COUNTRY CODE'] == 'IT'])\\\n",
    "    .append(data['VOTED PARTY LAST ELECTION FR'][data['COUNTRY CODE'] == 'FR'])\\\n",
    "    .append(data['VOTED PARTY LAST ELECTION GB'][data['COUNTRY CODE'] == 'GB'])\\\n",
    "    .append(data['VOTED PARTY LAST ELECTION ES'][data['COUNTRY CODE'] == 'ES'])\\\n",
    "    .append(data['VOTED PARTY LAST ELECTION PL'][data['COUNTRY CODE'] == 'PL'])\n",
    "\n",
    "    rankingParty = data['RANKING PARTY DE'][data['COUNTRY CODE'] == 'DE']\\\n",
    "    .append(data['RANKING PARTY IT'][data['COUNTRY CODE'] == 'IT'])\\\n",
    "    .append(data['RANKING PARTY FR'][data['COUNTRY CODE'] == 'FR'])\\\n",
    "    .append(data['RANKING PARTY GB'][data['COUNTRY CODE'] == 'GB'])\\\n",
    "    .append(data['RANKING PARTY ES'][data['COUNTRY CODE'] == 'ES'])\\\n",
    "    .append(data['RANKING PARTY PL'][data['COUNTRY CODE'] == 'PL'])\n",
    "\n",
    "    voteNextElection = pd.concat([data['VOTE NEXTELECTION DE'][data['COUNTRY CODE'] == 'DE'],\n",
    "                                    data['VOTE NEXTELECTION IT'][data['COUNTRY CODE'] == 'IT'],\n",
    "                                    data['VOTE NEXTELECTION FR'][data['COUNTRY CODE'] == 'FR'],\n",
    "                                    data['VOTE NEXTELECTION GB'][data['COUNTRY CODE'] == 'GB'],\n",
    "                                    data['VOTE NEXTELECTION ES'][data['COUNTRY CODE'] == 'ES'],\n",
    "                                    data['VOTE NEXTELECTION PL'][data['COUNTRY CODE'] == 'PL']], verify_integrity=True)\n",
    "\n",
    "    data['VOTED PARTY LAST ELECTION'] = voted\n",
    "    data['RANKING PARTY'] = rankingParty\n",
    "    data['VOTE NEXT ELECTION'] = voteNextElection\n",
    "\n",
    "    data.drop(['VOTED PARTY LAST ELECTION DE', 'VOTED PARTY LAST ELECTION IT', 'VOTED PARTY LAST ELECTION FR',\n",
    "               'VOTED PARTY LAST ELECTION GB', 'VOTED PARTY LAST ELECTION ES', 'VOTED PARTY LAST ELECTION PL',\n",
    "               'RANKING PARTY DE', 'RANKING PARTY IT', 'RANKING PARTY FR', 'RANKING PARTY GB', 'RANKING PARTY ES', \n",
    "               'RANKING PARTY PL', 'VOTE NEXTELECTION DE', 'VOTE NEXTELECTION IT', 'VOTE NEXTELECTION FR', 'VOTE NEXTELECTION GB',\n",
    "               'VOTE NEXTELECTION ES', 'VOTE NEXTELECTION PL'], axis=1, inplace=True)\n",
    "\n",
    "    data.drop('VOTE REFERENDUM', axis = 1, inplace=True)\n",
    "\n",
    "    data.drop('EMPLOYMENT STATUS IN EDUCATION', axis=1, inplace=True)\n",
    "\n",
    "    data.drop('ORIGIN', axis=1, inplace=True)\n",
    "\n",
    "    data['MEMBER ORGANIZATION'].fillna('Not member', inplace=True)\n",
    "    data.loc[data['MEMBER ORGANIZATION']=='Not member', 'ORGANIZATION ACTIVITIES TIMEPERWEEK'] = 'Not member'\n",
    "\n",
    "    data.drop(data.loc[data['HOUSEHOLD SIZE'].isnull()].index, inplace=True)\n",
    "\n",
    "    data.drop(data.loc[data['SOCIAL NETWORKS REGULARLY USED'].isnull()].index, inplace=True)\n",
    "\n",
    "    nullcols = data.isna().any()[data.isna().any()==True].index\n",
    "    data.drop(nullcols, axis=1, inplace=True)\n",
    "\n",
    "    data.drop('WEIGHT', axis=1, inplace=True)\n",
    "    data.loc[data['GENDER']=='male', 'GENDER'] = 1\n",
    "    data.loc[data['GENDER']!=1, 'GENDER'] = 0\n",
    "    data['GENDER'] = data['GENDER'].astype(int)\n",
    "    data.loc[data['RELIGION'] == 'Roman Catholic', 'RELIGION'] = 1\n",
    "    data.loc[data['RELIGION'] != 1, 'RELIGION'] = 0\n",
    "    data['RELIGION'] = data['RELIGION'].astype(int)\n",
    "    enc = LabelEncoder()\n",
    "    data['POLITICAL VIEW'] = enc.fit_transform(data['POLITICAL VIEW'].values)\n",
    "    data.rename(columns= lambda c: c.replace(\" \", \"_\"), inplace=True)\n",
    "    for c in data.columns:\n",
    "        if len(data[c].unique())>6:\n",
    "            data.drop(c, axis=1, inplace=True)\n",
    "    return data"
   ]
  },
  {
   "cell_type": "code",
   "execution_count": 25,
   "id": "a5b1985d-489a-4f73-988f-5ff061a8600d",
   "metadata": {},
   "outputs": [],
   "source": [
    "data = make_data()"
   ]
  },
  {
   "cell_type": "code",
   "execution_count": 26,
   "id": "dea19ba7-8f07-4946-ab23-334a8f17f458",
   "metadata": {},
   "outputs": [],
   "source": [
    "data = pd.get_dummies(data)"
   ]
  },
  {
   "cell_type": "code",
   "execution_count": 27,
   "id": "ab6c1f74",
   "metadata": {},
   "outputs": [
    {
     "data": {
      "text/plain": [
       "(7951, 204)"
      ]
     },
     "execution_count": 27,
     "metadata": {},
     "output_type": "execute_result"
    }
   ],
   "source": [
    "data.shape"
   ]
  },
  {
   "cell_type": "code",
   "execution_count": 28,
   "id": "f1c703d0",
   "metadata": {},
   "outputs": [
    {
     "data": {
      "text/plain": [
       "(3907, 204)"
      ]
     },
     "execution_count": 28,
     "metadata": {},
     "output_type": "execute_result"
    }
   ],
   "source": [
    "data[(data['GENDER']==0)].shape"
   ]
  },
  {
   "cell_type": "code",
   "execution_count": 29,
   "id": "f9e74e71-1d30-47fb-9e5d-72625b80efee",
   "metadata": {},
   "outputs": [],
   "source": [
    "label = 'POLITICAL_VIEW'\n",
    "protected_group = {'GENDER': 0}\n",
    "sensitive_variables=['GENDER']\n",
    "positive_label = 3"
   ]
  },
  {
   "cell_type": "code",
   "execution_count": 30,
   "id": "1a07e09c",
   "metadata": {},
   "outputs": [],
   "source": [
    "pipeline = Pipeline(\n",
    "    steps=[\n",
    "        (\"scaler\", StandardScaler()),\n",
    "        (\n",
    "            \"classifier\",\n",
    "            LogisticRegression(),\n",
    "        ),\n",
    "    ]\n",
    ")\n"
   ]
  },
  {
   "cell_type": "markdown",
   "id": "7021f008-3e92-4795-adf5-55a6eea1c3de",
   "metadata": {},
   "source": [
    "## Bias dataset"
   ]
  },
  {
   "cell_type": "markdown",
   "id": "44b9bf4e-4269-4ce2-9b0f-21731a2a8801",
   "metadata": {},
   "source": [
    "### Logistic Regression"
   ]
  },
  {
   "cell_type": "code",
   "execution_count": 31,
   "id": "bf02a191-dce0-46f4-8b7f-9bc8968b2869",
   "metadata": {},
   "outputs": [
    {
     "name": "stdout",
     "output_type": "stream",
     "text": [
      "Statistical parity:  -0.025  +-  0.009\n",
      "Disparate impact:  0.495  +-  0.143\n",
      "Zero one loss:  0.021  +-  0.015\n",
      "F1 score:  0.387  +-  0.012\n",
      "Accuracy score:  0.396  +-  0.014\n"
     ]
    }
   ],
   "source": [
    "model, lr_metrics = cross_val(pipeline, data, label, protected_group, sensitive_features=sensitive_variables, positive_label=positive_label)\n",
    "print_metrics(lr_metrics)"
   ]
  },
  {
   "cell_type": "markdown",
   "id": "b96435ba-b5a4-4a75-9c1b-ff652806c8d6",
   "metadata": {},
   "source": [
    "## DEMV application"
   ]
  },
  {
   "cell_type": "code",
   "execution_count": 32,
   "id": "e6bb6557-525e-4322-8d91-e1901b5a5de7",
   "metadata": {},
   "outputs": [],
   "source": [
    "demv = DEMV(round_level=1)\n",
    "demv_data = data.copy()"
   ]
  },
  {
   "cell_type": "markdown",
   "id": "4be387fe-5e0a-4dca-ab15-f2f05121a75c",
   "metadata": {},
   "source": [
    "### Logistic regression"
   ]
  },
  {
   "cell_type": "code",
   "execution_count": 33,
   "id": "2b03497c-a5cb-42a3-98bd-70c56e76c326",
   "metadata": {},
   "outputs": [
    {
     "name": "stdout",
     "output_type": "stream",
     "text": [
      "Statistical parity:  -0.012  +-  0.01\n",
      "Disparate impact:  0.694  +-  0.174\n",
      "Zero one loss:  0.021  +-  0.016\n",
      "F1 score:  0.385  +-  0.013\n",
      "Accuracy score:  0.395  +-  0.015\n"
     ]
    }
   ],
   "source": [
    "model, metrics_demv = cross_val(pipeline, demv_data, label, protected_group, sensitive_features=sensitive_variables, debiaser=demv, positive_label=positive_label)\n",
    "print_metrics(metrics_demv)"
   ]
  },
  {
   "cell_type": "markdown",
   "id": "1b8a6161-89ac-4406-b7d3-580fc3169365",
   "metadata": {},
   "source": [
    "## Exponentiated gradient"
   ]
  },
  {
   "cell_type": "code",
   "execution_count": 34,
   "id": "50274773",
   "metadata": {},
   "outputs": [],
   "source": [
    "fl_data = data.copy()\n",
    "const = BoundedGroupLoss(ZeroOneLoss(), upper_bound=0.1)\n",
    "l_model = ExponentiatedGradient(\n",
    "    pipeline, const, sample_weight_name=\"classifier__sample_weight\")\n"
   ]
  },
  {
   "cell_type": "code",
   "execution_count": 35,
   "id": "e9689067",
   "metadata": {},
   "outputs": [],
   "source": [
    "l_model, exp_metrics = cross_val(l_model, fl_data, label, protected_group, sensitive_variables, exp=True, positive_label=positive_label)"
   ]
  },
  {
   "cell_type": "code",
   "execution_count": 36,
   "id": "27918931",
   "metadata": {},
   "outputs": [
    {
     "name": "stdout",
     "output_type": "stream",
     "text": [
      "Statistical parity:  -0.023  +-  0.005\n",
      "Disparate impact:  0.526  +-  0.084\n",
      "Zero one loss:  0.022  +-  0.018\n",
      "F1 score:  0.388  +-  0.011\n",
      "Accuracy score:  0.397  +-  0.013\n"
     ]
    }
   ],
   "source": [
    "print_metrics(exp_metrics)"
   ]
  },
  {
   "cell_type": "markdown",
   "id": "235c1f53",
   "metadata": {},
   "source": [
    "## DEMV Evaluation"
   ]
  },
  {
   "cell_type": "code",
   "execution_count": 37,
   "id": "07f54922",
   "metadata": {},
   "outputs": [
    {
     "data": {
      "text/plain": [
       "30"
      ]
     },
     "execution_count": 37,
     "metadata": {},
     "output_type": "execute_result"
    }
   ],
   "source": [
    "demv.get_iters()"
   ]
  },
  {
   "cell_type": "code",
   "execution_count": 38,
   "id": "19d8d144",
   "metadata": {},
   "outputs": [],
   "source": [
    "metrics = eval_demv(15, 64, data.copy(), pipeline, label, protected_group, sensitive_variables, positive_label=positive_label)"
   ]
  },
  {
   "cell_type": "code",
   "execution_count": 39,
   "id": "48321c62",
   "metadata": {},
   "outputs": [],
   "source": [
    "df = prepareplots(metrics,'trumpSinglevar')"
   ]
  },
  {
   "cell_type": "code",
   "execution_count": 40,
   "id": "b24e444b",
   "metadata": {},
   "outputs": [],
   "source": [
    "iters = df['stop'].iloc[-1]"
   ]
  },
  {
   "cell_type": "code",
   "execution_count": 41,
   "id": "64349a73",
   "metadata": {},
   "outputs": [
    {
     "data": {
      "image/png": "[encoded data removed]",
      "text/plain": [
       "<Figure size 720x576 with 1 Axes>"
      ]
     },
     "metadata": {},
     "output_type": "display_data"
    }
   ],
   "source": [
    "points = preparepoints(exp_metrics, iters)\n",
    "plot_metrics_curves(df, points, 'Trump Multiclass Dataset')"
   ]
  },
  {
   "cell_type": "code",
   "execution_count": 42,
   "id": "a8b65744",
   "metadata": {},
   "outputs": [
    {
     "name": "stdout",
     "output_type": "stream",
     "text": [
      "Dataset size: 7951\n",
      "Unprivileged group size: 3907\n",
      "Percentage of unprivileged group: 49.13847314803169\n",
      "Number of iterations: 30\n"
     ]
    }
   ],
   "source": [
    "unprivpergentage(data,protected_group, demv.get_iters())"
   ]
  }
 ],
 "metadata": {
  "kernelspec": {
   "display_name": "Python 3 (ipykernel)",
   "language": "python",
   "name": "python3"
  },
  "language_info": {
   "codemirror_mode": {
    "name": "ipython",
    "version": 3
   },
   "file_extension": ".py",
   "mimetype": "text/x-python",
   "name": "python",
   "nbconvert_exporter": "python",
   "pygments_lexer": "ipython3",
   "version": "3.8.8"
  }
 },
 "nbformat": 4,
 "nbformat_minor": 5
}
