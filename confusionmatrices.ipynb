{
 "cells": [
  {
   "cell_type": "code",
   "execution_count": 206,
   "metadata": {},
   "outputs": [],
   "source": [
    "import sklearn\n",
    "from sklearn.metrics import confusion_matrix\n",
    "import matplotlib.pyplot as plt\n",
    "import numpy as np\n",
    "import getdataset\n",
    "import utils\n",
    "from sklearn.linear_model import LogisticRegression\n",
    "from sklearn.preprocessing import StandardScaler\n",
    "from sklearn.pipeline import Pipeline\n",
    "from copy import deepcopy\n",
    "import pandas as pd\n",
    "from collections import defaultdict\n",
    "from sklearn.model_selection import KFold\n",
    "from copy import deepcopy\n",
    "from demv import DEMV\n",
    "from fairlearn.metrics import MetricFrame\n",
    "from sklearn.ensemble import GradientBoostingClassifier\n",
    "from sklearn.svm import SVC\n",
    "from sklearn.neural_network import MLPClassifier\n",
    "from fairlearn.reductions import ExponentiatedGradient, BoundedGroupLoss, ZeroOneLoss, GridSearch"
   ]
  },
  {
   "cell_type": "code",
   "execution_count": 207,
   "metadata": {},
   "outputs": [],
   "source": [
    "def plot_confusion_matrix(y_true, y_pred, classes, datasetname,\n",
    "                          normalize=False,\n",
    "                          title=None,\n",
    "                          cmap=plt.cm.Blues, method = 'Biased'):\n",
    "                          \n",
    "    if not title:\n",
    "        if normalize:\n",
    "            title = 'Normalized confusion matrix: ' + str(method)\n",
    "        else:\n",
    "            title = 'Confusion matrix, without normalization: ' + str(method)\n",
    "    cm = confusion_matrix(y_true, y_pred)\n",
    "    if normalize:\n",
    "        cm = cm.astype('float') / cm.sum(axis=1)[:, np.newaxis]\n",
    "    \n",
    "    fig, ax = plt.subplots(figsize=(10,6))\n",
    "    im = ax.imshow(cm, interpolation='nearest', cmap=cmap)\n",
    "    ax.figure.colorbar(im, ax=ax)\n",
    "    ax.grid(False)\n",
    "    ax.set(xticks=np.arange(cm.shape[1]),\n",
    "           yticks=np.arange(cm.shape[0]), \n",
    "           xticklabels=classes, yticklabels=classes,\n",
    "           title=title,\n",
    "           ylabel='True label',\n",
    "           xlabel='Predicted label')\n",
    "    plt.setp(ax.get_xticklabels(), rotation=45, ha=\"right\",\n",
    "             rotation_mode=\"anchor\")\n",
    "    fmt = '.2f' if normalize else 'd'\n",
    "    thresh = cm.max() / 2.\n",
    "    for i in range(cm.shape[0]):\n",
    "        for j in range(cm.shape[1]):\n",
    "            ax.text(j, i, format(cm[i, j], fmt),\n",
    "                    ha=\"center\", va=\"center\",\n",
    "                    color=\"white\" if cm[i, j] > thresh else \"black\")\n",
    "    fig.tight_layout()\n",
    "\n",
    "    \n",
    "    plt.savefig('confusionmatrices/confusion_matrix_' + str(method) + \"_\" + str(datasetname) + \"_normalized=\" +str(normalize))\n",
    "    return ax"
   ]
  },
  {
   "cell_type": "code",
   "execution_count": 208,
   "metadata": {},
   "outputs": [],
   "source": [
    "pipeline = Pipeline([\n",
    "  ('scaler', StandardScaler()),\n",
    "  ('classifier', LogisticRegression())\n",
    "])\n",
    "classifier = pipeline"
   ]
  },
  {
   "cell_type": "code",
   "execution_count": 209,
   "metadata": {},
   "outputs": [],
   "source": [
    "def getprediction(data, label, classifier, groups_condition, sensitive_features, positive_label, debiaser = 'biased'):\n",
    "    fold = KFold(n_splits = 10, shuffle = True)\n",
    "\n",
    "    expbool = False\n",
    "\n",
    "    if(debiaser == 'demv'):\n",
    "        demv = DEMV(round_level=1, debug = False, strategy='random')\n",
    "        debiaser = demv\n",
    "        data = debiaser.fit_transform(\n",
    "            data, [keys for keys in groups_condition.keys()], label)\n",
    "\n",
    "    if(debiaser == 'eg'):\n",
    "        constr = BoundedGroupLoss(ZeroOneLoss(), upper_bound=0.1)\n",
    "        exp = ExponentiatedGradient(pipeline, constr, sample_weight_name=\"classifier__sample_weight\")\n",
    "        classifier = exp\n",
    "\n",
    "    if(debiaser == 'grid'):\n",
    "        constr = BoundedGroupLoss(ZeroOneLoss(), upper_bound=0.1)\n",
    "        exp = ExponentiatedGradient(pipeline, constr, sample_weight_name=\"classifier__sample_weight\")\n",
    "        grid = GridSearch(pipeline, constr, sample_weight_name=\"classifier__sample_weight\")\n",
    "        classifier = grid\n",
    "\n",
    "    model = deepcopy(classifier)\n",
    "\n",
    "    newdata = deepcopy(data)\n",
    "    newdata['y_true'] = data[label]\n",
    "\n",
    "    for train, test in fold.split(data):\n",
    "\n",
    "        df_train = data.iloc[train]\n",
    "        df_test = data.iloc[test]\n",
    "\n",
    "        x_train, x_test, y_train, y_test = utils._train_test_split(df_train, df_test, label)\n",
    "\n",
    "        model.fit(x_train, y_train, sensitive_features=df_train[sensitive_features]) if expbool else model.fit(x_train, y_train)\n",
    "\n",
    "        pred = model.predict(x_test)\n",
    "\n",
    "        newdata.iloc[test, newdata.columns.get_loc(label)] = pred\n",
    "\n",
    "    return newdata\n",
    "    "
   ]
  },
  {
   "cell_type": "code",
   "execution_count": 210,
   "metadata": {},
   "outputs": [],
   "source": [
    "dataset = 'law'\n",
    "def generatecm(dataset, debiaser = None , normalize = False):\n",
    "    data, label, positive_label, sensitive_features, unpriv_group, k = getdataset.getdataset(dataset, 2)\n",
    "    newdata = getprediction(data, label, classifier, unpriv_group, sensitive_features, positive_label, debiaser=debiaser )\n",
    "    classes = newdata['y_true'].unique()\n",
    "    plot_confusion_matrix(newdata['y_true'], newdata[label], classes, dataset, normalize = normalize)\n",
    "    "
   ]
  },
  {
   "cell_type": "code",
   "execution_count": 211,
   "metadata": {},
   "outputs": [
    {
     "data": {
      "image/png": "[encoded data removed]",
      "text/plain": [
       "<Figure size 720x432 with 2 Axes>"
      ]
     },
     "metadata": {
      "needs_background": "light"
     },
     "output_type": "display_data"
    }
   ],
   "source": [
    "generatecm(dataset)"
   ]
  }
 ],
 "metadata": {
  "kernelspec": {
   "display_name": "Python 3.9.7 ('base')",
   "language": "python",
   "name": "python3"
  },
  "language_info": {
   "codemirror_mode": {
    "name": "ipython",
    "version": 3
   },
   "file_extension": ".py",
   "mimetype": "text/x-python",
   "name": "python",
   "nbconvert_exporter": "python",
   "pygments_lexer": "ipython3",
   "version": "3.9.7"
  },
  "orig_nbformat": 4,
  "vscode": {
   "interpreter": {
    "hash": "40d3a090f54c6569ab1632332b64b2c03c39dcf918b08424e98f38b5ae0af88f"
   }
  }
 },
 "nbformat": 4,
 "nbformat_minor": 2
}
